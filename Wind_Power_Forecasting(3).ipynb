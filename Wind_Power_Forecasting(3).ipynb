{
 "cells": [
  {
   "cell_type": "markdown",
   "id": "22fbecec-0c6e-4585-bcda-59c9137badd9",
   "metadata": {},
   "source": [
    "# Wind Power Generation Forecasting"
   ]
  },
  {
   "cell_type": "code",
   "execution_count": null,
   "id": "48fb236e-c796-46d7-8c4d-4fbd425e1ef8",
   "metadata": {},
   "outputs": [],
   "source": [
    "pip install pandas numpy scikit-learn matplotlib seaborn"
   ]
  },
  {
   "cell_type": "code",
   "execution_count": null,
   "id": "07d831ef-30a8-40cd-b367-6b6f039ebe3d",
   "metadata": {},
   "outputs": [],
   "source": [
    "# importing all the necessary libraries\n",
    "import pandas as pd # data manipulation\n",
    "import numpy as np # numerical python - linear algebra\n",
    "import matplotlib.pyplot as plt # visualization lib\n",
    "import seaborn as sns\n",
    "from sklearn.model_selection import train_test_split # sklearn - ML\n",
    "from sklearn.preprocessing import StandardScaler # scaling"
   ]
  },
  {
   "cell_type": "code",
   "execution_count": null,
   "id": "76040aa8-5536-448b-a597-e5ce0d50fbfd",
   "metadata": {
    "scrolled": true
   },
   "outputs": [],
   "source": [
    "import pandas as pd\n",
    "location1 = pd.read_csv('Location1.csv')\n",
    "location2 = pd.read_csv('Location2.csv')\n",
    "location3 = pd.read_csv('Location3.csv')\n",
    "location4 = pd.read_csv('Location4.csv')"
   ]
  },
  {
   "cell_type": "code",
   "execution_count": null,
   "id": "21e33624-2086-41e8-8610-78ef92b95085",
   "metadata": {},
   "outputs": [],
   "source": [
    "# See the location 1 \n",
    "location1.head() # displays you top 5 rows"
   ]
  },
  {
   "cell_type": "code",
   "execution_count": null,
   "id": "f21f0f2c-95ad-44a9-ad3d-b054ca8df6a1",
   "metadata": {},
   "outputs": [],
   "source": [
    "# Adding a new column to identify the location\n",
    "location1['Location'] = 'Location1'\n",
    "location2['Location'] = 'Location2'\n",
    "location3['Location'] = 'Location3'\n",
    "location4['Location'] = 'Location4'\n",
    "\n",
    "# Concatenate to a dataframe\n",
    "merged_data = pd.concat([location1, location2, location3, location4], ignore_index=True)\n",
    "\n",
    "merged_data.head()"
   ]
  },
  {
   "cell_type": "code",
   "execution_count": null,
   "id": "7aa6ca14-b40c-4eac-a45d-9e3120cbe9a6",
   "metadata": {},
   "outputs": [],
   "source": [
    "# save the merged dataset to a new CSV file\n",
    "merged_data.to_csv('merged_locations.csv', index=False)"
   ]
  },
  {
   "cell_type": "code",
   "execution_count": null,
   "id": "23702272-70bd-42a1-9693-bdb296331608",
   "metadata": {},
   "outputs": [],
   "source": [
    "# To see the basic information about the dataset\n",
    "merged_data.info()"
   ]
  },
  {
   "cell_type": "code",
   "execution_count": null,
   "id": "b023c0ad-f1c8-4ade-b557-a19c9ea8614a",
   "metadata": {},
   "outputs": [],
   "source": [
    "# To check the statistics of Datasets\n",
    "merged_data.describe().T"
   ]
  },
  {
   "cell_type": "code",
   "execution_count": null,
   "id": "fac8ed7d-5bbc-46f9-b9a8-2a335f23b5c4",
   "metadata": {},
   "outputs": [],
   "source": [
    "# Check the missing values\n",
    "merged_data.isnull().sum()"
   ]
  },
  {
   "cell_type": "code",
   "execution_count": null,
   "id": "e648f42e-fcff-430d-bc6c-c709f0df96da",
   "metadata": {},
   "outputs": [],
   "source": [
    "# To check the duplicated rows\n",
    "merged_data.duplicated().sum()"
   ]
  },
  {
   "cell_type": "code",
   "execution_count": null,
   "id": "a52e540c-d257-41bd-90b9-eb978d6b317f",
   "metadata": {},
   "outputs": [],
   "source": [
    "# Encode the categorical variables\n",
    "merged_data = pd.get_dummies(merged_data, columns=['Location'], drop_first=True)\n",
    "merged_data.head()"
   ]
  },
  {
   "cell_type": "code",
   "execution_count": null,
   "id": "4e18548c-d178-49c9-9e2c-40eeffa38e00",
   "metadata": {},
   "outputs": [],
   "source": [
    "merged_data.columns"
   ]
  },
  {
   "cell_type": "code",
   "execution_count": null,
   "id": "cb293aa5-77d1-42fd-a09c-886cbd87f02f",
   "metadata": {},
   "outputs": [],
   "source": [
    "# Let's remove time col\n",
    "merged_data.drop('Time', axis=1, inplace=True)"
   ]
  },
  {
   "cell_type": "code",
   "execution_count": null,
   "id": "fc4f3088-9bb3-4aaa-a0a9-71c445a21d9a",
   "metadata": {},
   "outputs": [],
   "source": [
    "merged_data.head()"
   ]
  },
  {
   "cell_type": "code",
   "execution_count": null,
   "id": "d0087ea7-e688-4c19-acd0-be8e41da1197",
   "metadata": {},
   "outputs": [],
   "source": [
    "#week 2:\n"
   ]
  },
  {
   "cell_type": "code",
   "execution_count": null,
   "id": "362869fe-dceb-4dfc-bab7-4bf60e9e67f0",
   "metadata": {},
   "outputs": [],
   "source": [
    "# specfix numerical data\n",
    "numerical_columns = merged_data.select_dtypes(include=['number']).columns\n",
    "numerical_columns"
   ]
  },
  {
   "cell_type": "code",
   "execution_count": null,
   "id": "a58d232a-3522-484b-a40f-fcdac2e0847b",
   "metadata": {},
   "outputs": [],
   "source": [
    "merged_data.shape"
   ]
  },
  {
   "cell_type": "code",
   "execution_count": null,
   "id": "b5f444e9-67ca-46b8-923f-8d12c41aa2fb",
   "metadata": {},
   "outputs": [],
   "source": [
    "#ploting using subpolt by numerical data\n",
    "import matplotlib.pyplot as plt\n",
    "import seaborn as sns\n",
    "\n",
    "fig, axes = plt.subplots(3,3,figsize=(15,16))\n",
    "axes=axes.flatten()\n",
    "for i, col in enumerate(numerical_columns):\n",
    "    sns.histplot(merged_data[col],ax=axes[i])\n",
    "    axes[i].set_title(col)\n",
    "plt.tight_layout()\n",
    "plt.show()"
   ]
  },
  {
   "cell_type": "code",
   "execution_count": null,
   "id": "40ba1f06-6f51-4154-86ce-2103a03fd88f",
   "metadata": {},
   "outputs": [],
   "source": [
    "# we need to create a boxplot\n",
    "fig, axes = plt.subplots(3,3,figsize=(15,15))\n",
    "axes = axes.flatten()\n",
    "for i, col in enumerate(numerical_columns):\n",
    "    sns.boxplot(y=merged_data[col], ax=axes[i])\n",
    "    axes[i].set_title(f'Boxplot of {col}')\n",
    "    axes[i].set_ylabel(col)\n",
    "\n",
    "plt.tight_layout()\n",
    "plt.show()"
   ]
  },
  {
   "cell_type": "code",
   "execution_count": null,
   "id": "4226775c-87a2-4de6-993a-782a1e484ee0",
   "metadata": {},
   "outputs": [],
   "source": [
    " # scatter plots for relationship between temp&& power\n",
    "merged_data.plot.scatter(x='temperature_2m', y='Power', c='blue')\n",
    "plt.xlabel('Temperature (°C)')\n",
    "plt.ylabel('Power (W)')\n",
    "plt.title('Temperature vs Power')\n",
    "plt.grid(True)\n",
    "plt.show()"
   ]
  },
  {
   "cell_type": "code",
   "execution_count": null,
   "id": "513f4315-17b3-4de4-bd49-61ff6c9d058a",
   "metadata": {},
   "outputs": [],
   "source": [
    "print(merged_data.columns)\n"
   ]
  },
  {
   "cell_type": "code",
   "execution_count": null,
   "id": "cadaea24-7044-45ff-8ec5-7cc38eb8b873",
   "metadata": {},
   "outputs": [],
   "source": [
    "# multiple polts\n",
    "fig, axes = plt.subplots(3,6,figsize=(15,6))\n",
    "axes = axes.flatten()\n",
    "for i, col in enumerate(numerical_columns.drop('Power')):\n",
    "    sns.scatterplot(x=col,y='Power',data=merged_data, ax=axes[i])\n",
    "    axes[i].set_title(f'power vs  {col}')\n",
    "    axes[i].set_xlabel(col)\n",
    "    axes[i].set_ylabel(col)\n",
    "plt.tight_layout()\n",
    "plt.show()"
   ]
  },
  {
   "cell_type": "code",
   "execution_count": null,
   "id": "f5b7bc28-8ad3-48ec-8181-f16363df82ff",
   "metadata": {},
   "outputs": [],
   "source": [
    "correlation= merged_data[numerical_columns].corr()\n",
    "plt.figure(figsize=(10, 10))\n",
    "sns.heatmap(correlation, annot=True)\n",
    "plt.title(\"correlation\")\n",
    "plt.show()"
   ]
  },
  {
   "cell_type": "markdown",
   "id": "0a356f0c-828d-4b38-8447-bb7559bcbc95",
   "metadata": {},
   "source": [
    " ### week-3"
   ]
  },
  {
   "cell_type": "code",
   "execution_count": null,
   "id": "07b8fa9c-c0f7-4579-a4ac-33ce18f80053",
   "metadata": {},
   "outputs": [],
   "source": [
    "X=merged_data.drop('Power',axis=1) \n",
    "y=merged_data['Power']"
   ]
  },
  {
   "cell_type": "code",
   "execution_count": null,
   "id": "5f63cf96-fc1c-4f99-9040-d30074a40322",
   "metadata": {},
   "outputs": [],
   "source": [
    "# Split the data into training and test sets - 80% & 20%\n",
    "X_train, X_test, y_train, y_test = train_test_split(X, y, test_size=0.2, random_state=42)"
   ]
  },
  {
   "cell_type": "code",
   "execution_count": null,
   "id": "8b0a2796-e4d2-4cfa-bfeb-4b99c6bb9424",
   "metadata": {},
   "outputs": [],
   "source": [
    "# Scale the numerical features\n",
    "scaler = StandardScaler()\n",
    "X_train = scaler.fit_transform(X_train)\n",
    "X_test = scaler.transform(X_test)"
   ]
  },
  {
   "cell_type": "code",
   "execution_count": null,
   "id": "15925f98-3514-4043-af6c-62a253a3b9ca",
   "metadata": {},
   "outputs": [],
   "source": [
    "# Train with Linear Regression Model\n",
    "from sklearn. linear_model import LinearRegression\n",
    "from sklearn.metrics import mean_squared_error, mean_absolute_error, r2_score\n",
    "# initialize the model\n",
    "model = LinearRegression()\n",
    "# Train the model\n",
    "model.fit(X_train, y_train)"
   ]
  },
  {
   "cell_type": "code",
   "execution_count": null,
   "id": "b3199151-5cbe-4511-9208-7a05b565bf1d",
   "metadata": {},
   "outputs": [],
   "source": [
    "y_pred =model.predict(X_test)\n",
    "\n",
    "# Evaluate the model\n",
    "mae = mean_absolute_error(y_test, y_pred)\n",
    "mse = mean_squared_error(y_test, y_pred)\n",
    "r2 = r2_score(y_test, y_pred)\n",
    "\n",
    "print(f'Mean Absolute Error: {mae}')\n",
    "print(f'Mean Squared Error: {mse}')\n",
    "print(f'R Squared Score: {r2}')"
   ]
  },
  {
   "cell_type": "code",
   "execution_count": null,
   "id": "b2c894f8-0d6e-4a28-a668-0bae3198444f",
   "metadata": {},
   "outputs": [],
   "source": [
    "# Train using Random Forest Regressor\n",
    "from sklearn.ensemble import RandomForestRegressor\n",
    "\n",
    "# Initialize the model\n",
    "rf_model = RandomForestRegressor(n_estimators=100, random_state=42)\n",
    "\n",
    "# Train the RF Model\n",
    "rf_model.fit(X_train, y_train)"
   ]
  },
  {
   "cell_type": "code",
   "execution_count": null,
   "id": "4bd9cc57-976f-4d85-82c0-1372cc115a71",
   "metadata": {},
   "outputs": [],
   "source": [
    "y_pred_rf = rf_model.predict(X_test)\n",
    "\n",
    "# Evaluate the model\n",
    "mae_rf = mean_absolute_error(y_test, y_pred_rf)\n",
    "mse_rf = mean_squared_error(y_test, y_pred_rf)\n",
    "r2_rf = r2_score(y_test, y_pred_rf)\n",
    "\n",
    "print(f'RF MAE: {mae_rf}')\n",
    "print(f'RF MSE: {mse_rf}')\n",
    "print(f'RF R2 Score: {r2_rf}')\n"
   ]
  },
  {
   "cell_type": "code",
   "execution_count": null,
   "id": "83a115b8-1f0a-4b0d-a44c-82650a80a099",
   "metadata": {},
   "outputs": [],
   "source": [
    "from xgboost import XGBRegressor\n",
    "from sklearn.model_selection import GridSearchCV\n",
    "from sklearn.metrics import mean_absolute_error, mean_squared_error, r2_score\n",
    "from xgboost import XGBRegressor\n",
    "\n",
    "# Define the parameter grid for GridSearchCV\n",
    "param_grid = {\n",
    "    'n_estimators': [100, 200, 300],\n",
    "    'learning_rate': [0.01, 0.1, 0.2],\n",
    "    'max_depth': [3, 5, 7],\n",
    "    'subsample': [0.8, 1.0],\n",
    "    'colsample_bytree': [0.8, 1.0]\n",
    "}\n",
    "\n",
    "# Initialize GridSearchCV\n",
    "grid_search = GridSearchCV(\n",
    "    estimator=XGBRegressor(random_state=42),\n",
    "    param_grid=param_grid,\n",
    "    scoring='neg_mean_absolute_error',  # Use MAE for evaluation\n",
    "    cv=3,  # 3-fold cross-validation\n",
    "    n_jobs=-1  # Use all available CPU cores\n",
    ")\n",
    "\n",
    "# Fit the GridSearchCV\n",
    "grid_search.fit(X_train, y_train)\n",
    "\n",
    "# Best parameters and best score\n",
    "print(f'Best Parameters: {grid_search.best_params_}')\n",
    "print(f'Best MAE: {-grid_search.best_score_}')\n",
    "\n",
    "# Evaluate the tuned model\n",
    "best_model = grid_search.best_estimator_\n",
    "y_pred_tuned = best_model.predict(X_test)\n",
    "\n",
    "mae_tuned = mean_absolute_error(y_test, y_pred_tuned)\n",
    "mse_tuned = mean_squared_error(y_test, y_pred_tuned)\n",
    "r2_tuned = r2_score(y_test, y_pred_tuned)\n",
    "\n",
    "print(f'Tuned Model Mean Absolute Error (MAE): {mae_tuned}')\n",
    "print(f'Tuned Model Mean Squared Error (MSE): {mse_tuned}')\n",
    "print(f'Tuned Model R^2 Score: {r2_tuned}')\n"
   ]
  },
  {
   "cell_type": "code",
   "execution_count": null,
   "id": "3465ceab-f121-4e44-9f39-2747e138b5df",
   "metadata": {},
   "outputs": [],
   "source": [
    "pip install xgboost\n"
   ]
  },
  {
   "cell_type": "code",
   "execution_count": null,
   "id": "17b782c4-fcb7-454b-8261-3524acc69559",
   "metadata": {},
   "outputs": [],
   "source": [
    "from xgboost import XGBRegressor\n"
   ]
  },
  {
   "cell_type": "code",
   "execution_count": null,
   "id": "ae36252a-608f-4b9e-bcb4-92300084e1eb",
   "metadata": {},
   "outputs": [],
   "source": []
  },
  {
   "cell_type": "code",
   "execution_count": null,
   "id": "20e6b96f-acc1-4e6d-a672-a78bfd4d3186",
   "metadata": {},
   "outputs": [],
   "source": []
  },
  {
   "cell_type": "code",
   "execution_count": null,
   "id": "51d976ed-343e-454f-8f50-2ebebf78dde7",
   "metadata": {},
   "outputs": [],
   "source": []
  },
  {
   "cell_type": "code",
   "execution_count": null,
   "id": "b725fd52-0f1e-45c8-9492-b17c01be6a55",
   "metadata": {},
   "outputs": [],
   "source": []
  },
  {
   "cell_type": "code",
   "execution_count": null,
   "id": "3e393078-11e3-4544-bedd-6b817b58aced",
   "metadata": {},
   "outputs": [],
   "source": []
  },
  {
   "cell_type": "code",
   "execution_count": null,
   "id": "2d00d10b-ffca-43d3-95f6-5a0bbdd5b5c0",
   "metadata": {},
   "outputs": [],
   "source": []
  }
 ],
 "metadata": {
  "kernelspec": {
   "display_name": "Python 3 (ipykernel)",
   "language": "python",
   "name": "python3"
  },
  "language_info": {
   "codemirror_mode": {
    "name": "ipython",
    "version": 3
   },
   "file_extension": ".py",
   "mimetype": "text/x-python",
   "name": "python",
   "nbconvert_exporter": "python",
   "pygments_lexer": "ipython3",
   "version": "3.12.7"
  }
 },
 "nbformat": 4,
 "nbformat_minor": 5
}
